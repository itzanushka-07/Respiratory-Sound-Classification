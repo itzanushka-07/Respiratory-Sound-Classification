{
 "cells": [
  {
   "cell_type": "code",
   "execution_count": 2,
   "metadata": {},
   "outputs": [],
   "source": [
    "import os\n",
    "import numpy as np\n",
    "import scipy.signal as sps\n",
    "from scipy.io import wavfile"
   ]
  },
  {
   "cell_type": "code",
   "execution_count": 3,
   "metadata": {},
   "outputs": [],
   "source": [
    "dir = os.getcwd()\n",
    "number_of_samples = 57600\n",
    "x, y = [], []"
   ]
  },
  {
   "cell_type": "code",
   "execution_count": null,
   "metadata": {},
   "outputs": [],
   "source": [
    "txt_files_folder = os.path.join(dir,'dataset/txt_files')\n",
    "audio_files_folder = os.path.join(dir,'dataset/audio_files')\n",
    "file_names = [pos_txt for pos_txt in os.listdir(txt_files_folder)]\n",
    "total_files = len(file_names)\n",
    "for i, file_name in enumerate(file_names):\n",
    "    txt_file = open(os.path.join(txt_files_folder,file_name)).readlines()\n",
    "    txt_data = []\n",
    "    for row in txt_file:\n",
    "        data_i = []\n",
    "        for data_ij in row.split():\n",
    "            data_i.append(float(data_ij))\n",
    "        txt_data.append(data_i)\n",
    "    sampling_rate, audio_data = wavfile.read(os.path.join(audio_files_folder,os.path.splitext(file_name)[0]+'.wav'))\n",
    "    for row in txt_data:\n",
    "        audio_data_i = audio_data[..., round(row[0]*sampling_rate):round(row[1]*sampling_rate)]/22e6\n",
    "        audio_data_i = sps.resample(audio_data_i, number_of_samples)\n",
    "        audio_data_i = np.reshape(audio_data_i, (round(number_of_samples**0.5),round(number_of_samples**0.5)))\n",
    "        x.append(audio_data_i)\n",
    "        y.append(row[2:])\n",
    "    if (i+1)%10==0 or i==total_files-1:\n",
    "        print(\"[INFO] processed {}/{}\".format(i+1, total_files))"
   ]
  },
  {
   "cell_type": "code",
   "execution_count": 7,
   "metadata": {},
   "outputs": [],
   "source": [
    "np_x = np.array(x)\n",
    "np_y = np.array(y)"
   ]
  },
  {
   "cell_type": "code",
   "execution_count": 8,
   "metadata": {},
   "outputs": [],
   "source": [
    "np.save('log/x_dataset', np_x)\n",
    "np.save('log/y_dataset', np_y)"
   ]
  }
 ],
 "metadata": {
  "kernelspec": {
   "display_name": "Python 3",
   "language": "python",
   "name": "python3"
  },
  "language_info": {
   "codemirror_mode": {
    "name": "ipython",
    "version": 3
   },
   "file_extension": ".py",
   "mimetype": "text/x-python",
   "name": "python",
   "nbconvert_exporter": "python",
   "pygments_lexer": "ipython3",
   "version": "3.10.2"
  },
  "orig_nbformat": 4
 },
 "nbformat": 4,
 "nbformat_minor": 2
}
